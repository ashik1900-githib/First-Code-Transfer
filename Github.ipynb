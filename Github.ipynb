{
 "cells": [
  {
   "cell_type": "code",
   "execution_count": 1,
   "id": "cad0f375-75df-4460-8ab0-95199b90924f",
   "metadata": {},
   "outputs": [
    {
     "name": "stdout",
     "output_type": "stream",
     "text": [
      "I am Md. Ashikur Rahman and I am an Electrical Engineer\n"
     ]
    }
   ],
   "source": [
    "Ashik= \"I am Md. Ashikur Rahman and I am an Electrical Engineer\"\n",
    "print(Ashik)"
   ]
  },
  {
   "cell_type": "code",
   "execution_count": null,
   "id": "8931822d-5fb9-4f69-b8c2-72a913908975",
   "metadata": {},
   "outputs": [],
   "source": []
  }
 ],
 "metadata": {
  "kernelspec": {
   "display_name": "My Jupyter Venv",
   "language": "python",
   "name": "myvertual"
  },
  "language_info": {
   "codemirror_mode": {
    "name": "ipython",
    "version": 3
   },
   "file_extension": ".py",
   "mimetype": "text/x-python",
   "name": "python",
   "nbconvert_exporter": "python",
   "pygments_lexer": "ipython3",
   "version": "3.13.5"
  }
 },
 "nbformat": 4,
 "nbformat_minor": 5
}
